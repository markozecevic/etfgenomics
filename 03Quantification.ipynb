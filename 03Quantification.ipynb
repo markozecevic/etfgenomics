{
 "cells": [
  {
   "cell_type": "markdown",
   "metadata": {
    "slideshow": {
     "slide_type": "slide"
    }
   },
   "source": [
    "## Genome informatics\n",
    "# RNA-Seq analysis : Quantification"
   ]
  },
  {
   "cell_type": "markdown",
   "metadata": {
    "slideshow": {
     "slide_type": "slide"
    }
   },
   "source": [
    "## Motivation for RNA-Seq quantification\n",
    "\n",
    "- Typical studies:\n",
    "    - DNA-Seq -> alignment -> variant calling -> genome wide association study (GWAS);\n",
    "  \n",
    "    <img src=\"images/GWAS2-700x438.png\" width=\"400\">\n",
    "    \n",
    "    - RNA-Seq -> alignment -> quantification -> differential expression analysis"
   ]
  },
  {
   "cell_type": "markdown",
   "metadata": {
    "slideshow": {
     "slide_type": "slide"
    }
   },
   "source": [
    "## RNA-Seq quantification\n",
    "\n",
    "Raw counting or probabilistic estimation dilemma is (mostly) about doing analysis on gene vs transcript level.\n",
    "- When quantifying on **gene** level - we simply count the number of reads aligned to each gene.\n",
    "- On **transcript** level, we need an algorithm such as the Expectation Maximization (EM, pictured below) to deal with the uncertainty.\n",
    "\n",
    "<br>\n",
    "<img src=\"images/em1.png\" width=\"550\">"
   ]
  },
  {
   "cell_type": "markdown",
   "metadata": {
    "slideshow": {
     "slide_type": "subslide"
    }
   },
   "source": [
    "<img src=\"images/em2.png\" width=\"550\">"
   ]
  },
  {
   "cell_type": "markdown",
   "metadata": {
    "slideshow": {
     "slide_type": "subslide"
    }
   },
   "source": [
    "When performing statistical analysis of RNA expression, doing it on gene level compared to transcript level is more robust and experimentally actionable. The biologists will also usually draw their conclusions on gene level since that's the level that the biological pathways are annotated on. \n",
    "\n",
    "However, the use of gene counts for statistical analysis can mask transcript-level dynamics. A popular alternative nowadays is to estimate the transcript abundances and then aggregate to gene level, or perform the entire analysis on trancsript level (testing for differential expression) and then aggregate the results."
   ]
  },
  {
   "cell_type": "markdown",
   "metadata": {
    "slideshow": {
     "slide_type": "slide"
    }
   },
   "source": [
    "## Gene level quantification\n",
    "\n",
    "We shall, for simplicity's sake, only perform gene level quantification. Even though it has some drawbacks, it's a strategy still used by most genomic scientists. Here's what we have at the beginning of the quantification step and what we want to estimate:\n",
    "\n",
    "- We **have**: aligned reads and annotations. A file format called SAM/BAM is now the standard formats for next-generation sequence alignments.\n",
    "- We **estimate**: relative abundance.\n",
    "\n",
    "We'll start with some simple methods to find if two intervals overlap."
   ]
  },
  {
   "cell_type": "code",
   "execution_count": 3,
   "metadata": {
    "slideshow": {
     "slide_type": "fragment"
    }
   },
   "outputs": [],
   "source": [
    "def overlap(x, y):\n",
    "    \"\"\"\n",
    "    This function takes two intervals and determines whether \n",
    "    they have any overlapping segments.\n",
    "    \"\"\"\n",
    "    new_start = max(x[1], y[1])\n",
    "    new_end = min(x[2], y[2])\n",
    "    \n",
    "    if new_start < new_end and x[0] == y[0]:\n",
    "        return True\n",
    "    return False"
   ]
  },
  {
   "cell_type": "markdown",
   "metadata": {
    "slideshow": {
     "slide_type": "subslide"
    }
   },
   "source": [
    "We will define four intervals as tuples."
   ]
  },
  {
   "cell_type": "code",
   "execution_count": 4,
   "metadata": {
    "slideshow": {
     "slide_type": "fragment"
    }
   },
   "outputs": [],
   "source": [
    "region1 = (\"chr3\", 27, 82)\n",
    "region2 = (\"chr4\", 27, 82)\n",
    "region3 = (\"chr3\", 57, 75)"
   ]
  },
  {
   "cell_type": "code",
   "execution_count": 5,
   "metadata": {
    "slideshow": {
     "slide_type": "fragment"
    }
   },
   "outputs": [
    {
     "data": {
      "text/plain": [
       "False"
      ]
     },
     "execution_count": 5,
     "metadata": {},
     "output_type": "execute_result"
    }
   ],
   "source": [
    "overlap(region1, region2)"
   ]
  },
  {
   "cell_type": "code",
   "execution_count": 6,
   "metadata": {
    "slideshow": {
     "slide_type": "fragment"
    }
   },
   "outputs": [
    {
     "data": {
      "text/plain": [
       "True"
      ]
     },
     "execution_count": 6,
     "metadata": {},
     "output_type": "execute_result"
    }
   ],
   "source": [
    "overlap(region1, region3)"
   ]
  },
  {
   "cell_type": "markdown",
   "metadata": {
    "slideshow": {
     "slide_type": "subslide"
    }
   },
   "source": [
    "We shall now pick a gene of interest and try to find reads mapping to that gene."
   ]
  },
  {
   "cell_type": "code",
   "execution_count": 7,
   "metadata": {
    "slideshow": {
     "slide_type": "fragment"
    }
   },
   "outputs": [],
   "source": [
    "# the location of DEFB125 gene in human genome, gencode.v27 annotation\n",
    "gene = ('chr20', 87249, 97094)"
   ]
  },
  {
   "cell_type": "markdown",
   "metadata": {
    "slideshow": {
     "slide_type": "fragment"
    }
   },
   "source": [
    "To start exploring reads from a SAM/BAM file, we first need to load the file."
   ]
  },
  {
   "cell_type": "code",
   "execution_count": 10,
   "metadata": {
    "slideshow": {
     "slide_type": "fragment"
    }
   },
   "outputs": [],
   "source": [
    "import pysam\n",
    "\n",
    "# load BAM file\n",
    "bamfile = pysam.AlignmentFile(\"aligned/sample_01_accepted_hits.bam\", \"rb\")"
   ]
  },
  {
   "cell_type": "markdown",
   "metadata": {
    "slideshow": {
     "slide_type": "fragment"
    }
   },
   "source": [
    "Note the 'rb' parameter indicates to read the file as binary, which is the BAM format (BAM stands for Binary Alignment Map). If loading a SAM file, this parameter does not need to be specified"
   ]
  },
  {
   "cell_type": "markdown",
   "metadata": {
    "slideshow": {
     "slide_type": "subslide"
    }
   },
   "source": [
    "An important and very common application is to count the number of reads (aligned fragments) that overlap a given feature (i.e. region of the genome or gene). One simple approach to doing this is to make a list of all reads generated and simply iterate over the reads to identify whether a read overlaps a region. \n",
    "\n",
    "In this case we need an overlap method that can compare a simple interval (defined by a tuple of sequence, start, end) with a pysam AlignedSegment object. This overlap method also needs the AlignmentFile object to decode the chromosome name."
   ]
  },
  {
   "cell_type": "code",
   "execution_count": 8,
   "metadata": {
    "slideshow": {
     "slide_type": "fragment"
    }
   },
   "outputs": [],
   "source": [
    "def overlap(x, gene, bamfile):\n",
    "    \"\"\"\n",
    "    A modified version of overlap that takes an interval and a pysam\n",
    "    AlignedSegment and tests for overlap\n",
    "    \"\"\"\n",
    "    new_start = max(x.reference_start, gene[1])\n",
    "    new_end = min(x.reference_end, gene[2])\n",
    "    \n",
    "    if (new_start < new_end and bamfile.getrname(x.tid) == gene[0]):\n",
    "        return True\n",
    "    \n",
    "    return False"
   ]
  },
  {
   "cell_type": "code",
   "execution_count": 11,
   "metadata": {
    "slideshow": {
     "slide_type": "subslide"
    }
   },
   "outputs": [
    {
     "name": "stdout",
     "output_type": "stream",
     "text": [
      "CPU times: user 3.98 s, sys: 34.9 ms, total: 4.01 s\n",
      "Wall time: 4.02 s\n"
     ]
    }
   ],
   "source": [
    "%%time\n",
    "\n",
    "# code to iterate over reads and count for a single gene\n",
    "naive_gene_count = 0\n",
    "\n",
    "global ref\n",
    "\n",
    "for x in bamfile.fetch():\n",
    "    # Note x is of type pysam.AlignedSegment\n",
    "    if(overlap(x, gene, bamfile)):\n",
    "        naive_gene_count += 1\n",
    "    ref = x.reference_end\n",
    "    "
   ]
  },
  {
   "cell_type": "code",
   "execution_count": 12,
   "metadata": {
    "slideshow": {
     "slide_type": "fragment"
    }
   },
   "outputs": [
    {
     "name": "stdout",
     "output_type": "stream",
     "text": [
      "1016\n"
     ]
    }
   ],
   "source": [
    "print(naive_gene_count)"
   ]
  },
  {
   "cell_type": "markdown",
   "metadata": {
    "slideshow": {
     "slide_type": "subslide"
    }
   },
   "source": [
    "The problem with this approach is that to do this, you will need to store the entire file in memory. Worse than that, in order to find the reads within a single gene, you would need to iterate over the entire file, which can contain hundreds of millions of reads. This is quite slow even for a single gene, but will only increase if you want to look at many genes.\n",
    "\n",
    "Instead, more efficient datastructures (and indexing schemes) can be used to retrieve reads based on positions in more efficient ways.\n",
    "\n",
    "To get the reads overlapping a given region, Pysam has a method called fetch(), which takes the genomic coordinates and returns an iterator of all reads overlapping that region."
   ]
  },
  {
   "cell_type": "code",
   "execution_count": 13,
   "metadata": {
    "slideshow": {
     "slide_type": "fragment"
    }
   },
   "outputs": [],
   "source": [
    "bam_iter = bamfile.fetch(gene[0], gene[1], gene[2])"
   ]
  },
  {
   "cell_type": "code",
   "execution_count": 14,
   "metadata": {
    "slideshow": {
     "slide_type": "subslide"
    }
   },
   "outputs": [
    {
     "name": "stdout",
     "output_type": "stream",
     "text": [
      "CPU times: user 2.21 ms, sys: 878 µs, total: 3.08 ms\n",
      "Wall time: 2.07 ms\n"
     ]
    }
   ],
   "source": [
    "%%time\n",
    "\n",
    "pysam_gene_count = 0\n",
    "\n",
    "for x in bam_iter:\n",
    "    pysam_gene_count += 1"
   ]
  },
  {
   "cell_type": "code",
   "execution_count": 15,
   "metadata": {
    "slideshow": {
     "slide_type": "fragment"
    }
   },
   "outputs": [
    {
     "name": "stdout",
     "output_type": "stream",
     "text": [
      "1016\n"
     ]
    }
   ],
   "source": [
    "print(pysam_gene_count)"
   ]
  },
  {
   "cell_type": "markdown",
   "metadata": {
    "slideshow": {
     "slide_type": "fragment"
    }
   },
   "source": [
    "Not surprisingly, they are the same - the big difference is that the second method is significantly faster. The reason for this is that Pysam (like Samtools, Picard, and other similar toolkits) make use of clever tricks to index the file by genomic positions to more efficiently search for reads within a given genomic interval."
   ]
  },
  {
   "cell_type": "markdown",
   "metadata": {
    "slideshow": {
     "slide_type": "subslide"
    }
   },
   "source": [
    "Now that we know how to count reads overlapping a region, we can write this as a function and try and compute this for all genes."
   ]
  },
  {
   "cell_type": "code",
   "execution_count": 16,
   "metadata": {
    "slideshow": {
     "slide_type": "fragment"
    }
   },
   "outputs": [],
   "source": [
    "def read_count(gene, bamfile):\n",
    "    \"\"\"\n",
    "    Compute the number of reads contained in a bamfile that overlap\n",
    "    a given interval\n",
    "    \"\"\"\n",
    "    bam_iter = bamfile.fetch(gene[0], gene[1], gene[2])\n",
    "\n",
    "    pysam_gene_count = 0\n",
    "    \n",
    "    for x in bam_iter:\n",
    "        pysam_gene_count += 1\n",
    "        \n",
    "    return pysam_gene_count"
   ]
  },
  {
   "cell_type": "markdown",
   "metadata": {
    "slideshow": {
     "slide_type": "fragment"
    }
   },
   "source": [
    "You can run this with any gene tuple now:"
   ]
  },
  {
   "cell_type": "code",
   "execution_count": 17,
   "metadata": {
    "slideshow": {
     "slide_type": "fragment"
    }
   },
   "outputs": [
    {
     "data": {
      "text/plain": [
       "5282"
      ]
     },
     "execution_count": 17,
     "metadata": {},
     "output_type": "execute_result"
    }
   ],
   "source": [
    "# the location of ZNFX1 gene in human genome, gencode.v27 annotation\n",
    "gene2 = (\"chr20\", 49237945, 49278426)\n",
    "\n",
    "read_count(gene2, bamfile)"
   ]
  },
  {
   "cell_type": "markdown",
   "metadata": {
    "slideshow": {
     "slide_type": "subslide"
    }
   },
   "source": [
    "Now, let's compute the gene counts for all genes. We'll start by reading in all genes:"
   ]
  },
  {
   "cell_type": "code",
   "execution_count": 19,
   "metadata": {
    "slideshow": {
     "slide_type": "fragment"
    }
   },
   "outputs": [
    {
     "name": "stdout",
     "output_type": "stream",
     "text": [
      "CPU times: user 4.73 s, sys: 72.8 ms, total: 4.81 s\n",
      "Wall time: 4.81 s\n"
     ]
    }
   ],
   "source": [
    "%%time\n",
    "\n",
    "gene_counts={}\n",
    "\n",
    "with open('gencode.v27.chr20.bed', 'r') as f:\n",
    "    for line in f:\n",
    "        tokens = line.split('\\t')\n",
    "        gene_local = (tokens[0], int(tokens[1]), int(tokens[2]))\n",
    "        count = read_count(gene_local, bamfile)\n",
    "        gene_counts.update({tokens[3].rstrip() : count})   "
   ]
  },
  {
   "cell_type": "markdown",
   "metadata": {
    "slideshow": {
     "slide_type": "fragment"
    }
   },
   "source": [
    "Now it's easy to query the gene counts for different genes."
   ]
  },
  {
   "cell_type": "code",
   "execution_count": 20,
   "metadata": {
    "slideshow": {
     "slide_type": "fragment"
    }
   },
   "outputs": [
    {
     "name": "stdout",
     "output_type": "stream",
     "text": [
      "7283\n",
      "3836\n",
      "1641\n"
     ]
    }
   ],
   "source": [
    "print(gene_counts.get(\"ARFGEF2\"))\n",
    "print(gene_counts.get(\"SOX12\"))\n",
    "print(gene_counts.get(\"WFDC8\"))"
   ]
  }
 ],
 "metadata": {
  "celltoolbar": "Slideshow",
  "kernelspec": {
   "display_name": "Python [default]",
   "language": "python",
   "name": "python3"
  },
  "language_info": {
   "codemirror_mode": {
    "name": "ipython",
    "version": 3
   },
   "file_extension": ".py",
   "mimetype": "text/x-python",
   "name": "python",
   "nbconvert_exporter": "python",
   "pygments_lexer": "ipython3",
   "version": "3.6.5"
  }
 },
 "nbformat": 4,
 "nbformat_minor": 2
}
