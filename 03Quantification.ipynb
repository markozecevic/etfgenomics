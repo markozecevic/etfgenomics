{
 "cells": [
  {
   "cell_type": "markdown",
   "metadata": {
    "slideshow": {
     "slide_type": "slide"
    }
   },
   "source": [
    "## Genome informatics\n",
    "# RNA-Seq analysis : Quantification"
   ]
  },
  {
   "cell_type": "markdown",
   "metadata": {
    "slideshow": {
     "slide_type": "slide"
    }
   },
   "source": [
    "## RNA-Seq quantification\n",
    "\n",
    "Raw counting or probabilistic estimation dilemma is (mostly) about doing analysis on gene vs transcript level.\n",
    "- When quantifying on **gene** level - we simply count the number of reads aligned to each gene.\n",
    "- On **transcript** level, we need an algorithm such as the Expectation Maximization (EM, pictured below) to deal with the uncertainty.\n",
    "\n",
    "<br>\n",
    "<img src=\"em1.png\" width=\"550\">"
   ]
  },
  {
   "cell_type": "markdown",
   "metadata": {
    "slideshow": {
     "slide_type": "subslide"
    }
   },
   "source": [
    "<img src=\"em2.png\" width=\"550\">"
   ]
  },
  {
   "cell_type": "markdown",
   "metadata": {
    "slideshow": {
     "slide_type": "subslide"
    }
   },
   "source": [
    "When performing statistical analysis of RNA expression, doing it on gene level compared to transcript level is more robust and experimentally actionable. The biologists will also usually draw their conclusions on gene level since that's the level that the biological pathways are annotated on. \n",
    "\n",
    "However, the use of gene counts for statistical analysis can mask transcript-level dynamics. A popular alternative nowadays is to estimate the transcript abundances and then aggregate to gene level, or perform the entire analysis on trancsript level (testing for differential expression) and then aggregate the results."
   ]
  },
  {
   "cell_type": "markdown",
   "metadata": {
    "slideshow": {
     "slide_type": "slide"
    }
   },
   "source": [
    "## Gene level quantification\n",
    "\n",
    "We shall, for simplicity's sake, only perform gene level quantification. Even though it has some drawbacks, it's a strategy still used by most genomic scientists. Here's what we have at the beginning of the quantification step and what we want to estimate:\n",
    "\n",
    "- We **have**: aligned reads. A file format called SAM/BAM is now the standard formats for next-generation sequence alignments.\n",
    "- We **estimate**: relative abundance.\n",
    "\n",
    "We'll start with some simple methods to compare two features. We say that 2 intervals overlap if any region of the two features cover the same position."
   ]
  },
  {
   "cell_type": "code",
   "execution_count": 1,
   "metadata": {
    "slideshow": {
     "slide_type": "fragment"
    }
   },
   "outputs": [],
   "source": [
    "def overlap(x, y):\n",
    "    \"\"\"\n",
    "    This function takes two intervals and determines whether \n",
    "    they have any overlapping segments.\n",
    "    \"\"\"\n",
    "    new_start = max(x[1], y[1])\n",
    "    new_end = min(x[2], y[2])\n",
    "    \n",
    "    if new_start < new_end and x[0] == y[0]:\n",
    "        return True\n",
    "    return False"
   ]
  },
  {
   "cell_type": "markdown",
   "metadata": {
    "slideshow": {
     "slide_type": "subslide"
    }
   },
   "source": [
    "We will define four intervals as tuples."
   ]
  },
  {
   "cell_type": "code",
   "execution_count": 2,
   "metadata": {
    "slideshow": {
     "slide_type": "fragment"
    }
   },
   "outputs": [],
   "source": [
    "region1 = (\"chr3\", 27, 82)\n",
    "region2 = (\"chr4\", 27, 82)\n",
    "region3 = (\"chr3\", 57, 75)\n",
    "region4 = (\"chr3\", 85, 107)"
   ]
  },
  {
   "cell_type": "code",
   "execution_count": 3,
   "metadata": {
    "slideshow": {
     "slide_type": "fragment"
    }
   },
   "outputs": [
    {
     "data": {
      "text/plain": [
       "False"
      ]
     },
     "execution_count": 3,
     "metadata": {},
     "output_type": "execute_result"
    }
   ],
   "source": [
    "overlap(region1, region2)"
   ]
  },
  {
   "cell_type": "code",
   "execution_count": 4,
   "metadata": {
    "slideshow": {
     "slide_type": "fragment"
    }
   },
   "outputs": [
    {
     "data": {
      "text/plain": [
       "True"
      ]
     },
     "execution_count": 4,
     "metadata": {},
     "output_type": "execute_result"
    }
   ],
   "source": [
    "overlap(region1, region3)"
   ]
  },
  {
   "cell_type": "code",
   "execution_count": 5,
   "metadata": {
    "slideshow": {
     "slide_type": "fragment"
    }
   },
   "outputs": [
    {
     "data": {
      "text/plain": [
       "False"
      ]
     },
     "execution_count": 5,
     "metadata": {},
     "output_type": "execute_result"
    }
   ],
   "source": [
    "overlap(region1, region4)"
   ]
  },
  {
   "cell_type": "markdown",
   "metadata": {
    "slideshow": {
     "slide_type": "subslide"
    }
   },
   "source": [
    "We shall now pick a gene of interest and try to find reads mapping to that gene."
   ]
  },
  {
   "cell_type": "code",
   "execution_count": 104,
   "metadata": {
    "slideshow": {
     "slide_type": "fragment"
    }
   },
   "outputs": [],
   "source": [
    "# the location of DEFB125 gene in human genome, gencode.v27 annotation\n",
    "gene = ('chr20', 87249, 97094)"
   ]
  },
  {
   "cell_type": "markdown",
   "metadata": {
    "slideshow": {
     "slide_type": "fragment"
    }
   },
   "source": [
    "To start exploring reads from a SAM/BAM file, let's first load the file."
   ]
  },
  {
   "cell_type": "code",
   "execution_count": 105,
   "metadata": {
    "slideshow": {
     "slide_type": "fragment"
    }
   },
   "outputs": [],
   "source": [
    "import pysam\n",
    "\n",
    "# load BAM file\n",
    "bamfile = pysam.AlignmentFile(\"aligned/sample_01_accepted_hits.bam\", \"rb\")"
   ]
  },
  {
   "cell_type": "markdown",
   "metadata": {
    "slideshow": {
     "slide_type": "fragment"
    }
   },
   "source": [
    "Note the 'rb' parameter indicates to read the file as binary, which is the BAM format (BAM stands for Binary Alignment Map). If loading a SAM file, this parameter does not need to be specified"
   ]
  },
  {
   "cell_type": "markdown",
   "metadata": {
    "slideshow": {
     "slide_type": "subslide"
    }
   },
   "source": [
    "An important and very common application is to count the number of reads (aligned fragments) that overlap a give feature (i.e. region of the genome or gene). One simple approach to doing this is to make a list of all reads generated and simply iterate over the reads to identify whether a read overlaps a region. In this case we need an overlap method that can compare a simple interval (defined by a tuple of chr, start, end) with a pysam AlignedSegment object. This overlap method needs the AlignmentFile object to decode chromosome name, otherwise it is very similar to the above overlap() function."
   ]
  },
  {
   "cell_type": "code",
   "execution_count": 106,
   "metadata": {
    "slideshow": {
     "slide_type": "fragment"
    }
   },
   "outputs": [],
   "source": [
    "def overlap(x, gene, bamfile):\n",
    "    \"\"\"\n",
    "    A modified version of overlap that takes an interval and a pysam\n",
    "    AlignedSegment and tests for overlap\n",
    "    \"\"\"\n",
    "    new_start = max(x.reference_start, gene[1])\n",
    "    new_end = min(x.reference_end, gene[2])\n",
    "    \n",
    "    if (new_start < new_end and bamfile.getrname(x.tid) == gene[0]):\n",
    "        return True\n",
    "    \n",
    "    return False"
   ]
  },
  {
   "cell_type": "code",
   "execution_count": 107,
   "metadata": {
    "slideshow": {
     "slide_type": "subslide"
    }
   },
   "outputs": [
    {
     "name": "stdout",
     "output_type": "stream",
     "text": [
      "CPU times: user 2.27 s, sys: 15.5 ms, total: 2.29 s\n",
      "Wall time: 2.29 s\n"
     ]
    }
   ],
   "source": [
    "%%time\n",
    "\n",
    "# code to iterate over reads and count for a single gene\n",
    "naive_gene_count = 0\n",
    "\n",
    "global ref\n",
    "\n",
    "for x in bamfile.fetch():\n",
    "    # Note x is of type pysam.AlignedSegment\n",
    "    if(overlap(x, gene, bamfile)):\n",
    "        naive_gene_count += 1\n",
    "    ref = x.reference_end\n",
    "    "
   ]
  },
  {
   "cell_type": "code",
   "execution_count": 108,
   "metadata": {
    "slideshow": {
     "slide_type": "fragment"
    }
   },
   "outputs": [
    {
     "name": "stdout",
     "output_type": "stream",
     "text": [
      "438\n"
     ]
    }
   ],
   "source": [
    "print(naive_gene_count)"
   ]
  },
  {
   "cell_type": "markdown",
   "metadata": {
    "slideshow": {
     "slide_type": "subslide"
    }
   },
   "source": [
    "The problem with this approach is that to do this, you will need to store the entire file in memory. Worse than that, in order to find the reads within a single gene, you would need to iterate over the entire file, which can contain hundreds of millions of reads. This is quite slow even for a single gene, but will only increase if you want to look at many genes.\n",
    "\n",
    "Instead, more efficient datastructures (and indexing schemes) can be used to retrieve reads based on positions in more efficient ways.\n",
    "\n",
    "Now that you have access to all of the methods in the Pysam package. Let's take a tour of some of the things you can do in Pysam. We'll start by counting the number of reads over the same region above, but in a smarter way.\n",
    "\n",
    "(Note: the exact way Pysam, Picard and other tools implement this is based on a similar concept to the interval tree, but generally involve a tree built on a file index so as to avoid reading the entire file into memory, but for the purposes of this discussion the implementation details are not important).\n",
    "\n",
    "To get the reads overlapping a given region, Pysam has a method called fetch(), which takes the genomic coordinates and returns an iterator of all reads overlapping that region."
   ]
  },
  {
   "cell_type": "code",
   "execution_count": 109,
   "metadata": {
    "slideshow": {
     "slide_type": "fragment"
    }
   },
   "outputs": [],
   "source": [
    "bam_iter = bamfile.fetch(gene[0], gene[1], gene[2])"
   ]
  },
  {
   "cell_type": "code",
   "execution_count": 110,
   "metadata": {
    "slideshow": {
     "slide_type": "subslide"
    }
   },
   "outputs": [
    {
     "name": "stdout",
     "output_type": "stream",
     "text": [
      "CPU times: user 1.52 ms, sys: 1.21 ms, total: 2.74 ms\n",
      "Wall time: 1.54 ms\n"
     ]
    }
   ],
   "source": [
    "%%time\n",
    "\n",
    "pysam_gene_count = 0\n",
    "\n",
    "for x in bam_iter:\n",
    "    pysam_gene_count += 1"
   ]
  },
  {
   "cell_type": "code",
   "execution_count": 111,
   "metadata": {
    "slideshow": {
     "slide_type": "fragment"
    }
   },
   "outputs": [
    {
     "name": "stdout",
     "output_type": "stream",
     "text": [
      "438\n"
     ]
    }
   ],
   "source": [
    "print(pysam_gene_count)"
   ]
  },
  {
   "cell_type": "markdown",
   "metadata": {
    "slideshow": {
     "slide_type": "fragment"
    }
   },
   "source": [
    "Not surprisingly, they are the same - the big difference is that the second method is significantly faster. The reason for this is that Pysam (and Samtools, Picard, and other similar packages) make use of clever tricks to index the file by genomic positions to more efficiently search for reads within a given genomic interval."
   ]
  },
  {
   "cell_type": "markdown",
   "metadata": {
    "slideshow": {
     "slide_type": "subslide"
    }
   },
   "source": [
    "Now that we know how to count reads overlapping a region, we can write this as a function and try and compute this for all genes."
   ]
  },
  {
   "cell_type": "code",
   "execution_count": 112,
   "metadata": {
    "slideshow": {
     "slide_type": "fragment"
    }
   },
   "outputs": [],
   "source": [
    "def read_count(gene, bamfile):\n",
    "    \"\"\"\n",
    "    Compute the number of reads contained in a bamfile that overlap\n",
    "    a given interval\n",
    "    \"\"\"\n",
    "    bam_iter = bamfile.fetch(gene[0], gene[1], gene[2])\n",
    "\n",
    "    pysam_gene_count = 0\n",
    "    \n",
    "    for x in bam_iter:\n",
    "        pysam_gene_count += 1\n",
    "        \n",
    "    return pysam_gene_count"
   ]
  },
  {
   "cell_type": "markdown",
   "metadata": {
    "slideshow": {
     "slide_type": "fragment"
    }
   },
   "source": [
    "You can run this with any gene tuple now"
   ]
  },
  {
   "cell_type": "code",
   "execution_count": 113,
   "metadata": {
    "slideshow": {
     "slide_type": "fragment"
    }
   },
   "outputs": [
    {
     "data": {
      "text/plain": [
       "2282"
      ]
     },
     "execution_count": 113,
     "metadata": {},
     "output_type": "execute_result"
    }
   ],
   "source": [
    "# the location of ZNFX1 gene in human genome, gencode.v27 annotation\n",
    "gene2 = (\"chr20\", 49237945, 49278426)\n",
    "\n",
    "read_count(gene2, bamfile)"
   ]
  },
  {
   "cell_type": "markdown",
   "metadata": {
    "slideshow": {
     "slide_type": "subslide"
    }
   },
   "source": [
    "Now, let's compute the gene counts for all genes. We'll start by reading in all genes"
   ]
  },
  {
   "cell_type": "code",
   "execution_count": 118,
   "metadata": {
    "slideshow": {
     "slide_type": "fragment"
    }
   },
   "outputs": [
    {
     "name": "stdout",
     "output_type": "stream",
     "text": [
      "CPU times: user 3.37 s, sys: 47.1 ms, total: 3.42 s\n",
      "Wall time: 3.42 s\n"
     ]
    }
   ],
   "source": [
    "%%time\n",
    "\n",
    "gene_counts={}\n",
    "\n",
    "with open('gencode.v27.chr20.bed', 'r') as f:\n",
    "    for line in f:\n",
    "        tokens = line.split('\\t')\n",
    "        gene_local = (tokens[0], int(tokens[1]), int(tokens[2]))\n",
    "        count = read_count(gene_local, bamfile)\n",
    "        gene_counts.update({tokens[3].rstrip() : count})   "
   ]
  },
  {
   "cell_type": "markdown",
   "metadata": {
    "slideshow": {
     "slide_type": "fragment"
    }
   },
   "source": [
    "Now it's easy to query the gene counts for different genes."
   ]
  },
  {
   "cell_type": "code",
   "execution_count": 121,
   "metadata": {
    "slideshow": {
     "slide_type": "fragment"
    }
   },
   "outputs": [
    {
     "name": "stdout",
     "output_type": "stream",
     "text": [
      "3369\n",
      "1665\n",
      "957\n"
     ]
    }
   ],
   "source": [
    "print(gene_counts.get(\"ARFGEF2\"))\n",
    "print(gene_counts.get(\"SOX12\"))\n",
    "print(gene_counts.get(\"WFDC8\"))"
   ]
  },
  {
   "cell_type": "markdown",
   "metadata": {
    "slideshow": {
     "slide_type": "slide"
    }
   },
   "source": [
    "## Within sample normalization\n",
    "\n",
    "Raw read counts are dependent on gene expression as well as gene length. If we want to compare gene level abundances within a single sample, we need to normalize counts by the length of the gene.\n",
    "\n",
    "The normalization method that we will implement is called **TPM** (transcripts per million) and it allows for comparison of features with different length **within** a sample but not **between** samples. Between sample normalization will be the subject of the following lecture."
   ]
  },
  {
   "cell_type": "code",
   "execution_count": 122,
   "metadata": {
    "slideshow": {
     "slide_type": "fragment"
    }
   },
   "outputs": [],
   "source": [
    "import pandas as pd\n",
    "\n",
    "def tpm(genefile, bamfile):\n",
    "    \"\"\"\n",
    "    Compute the TPM (transcripts per million) metric for all genes within the genefile using\n",
    "    an RNA-Seq bamfile\n",
    "    \"\"\"\n",
    "    total_mapped_reads = 0\n",
    "    \n",
    "    # here you want all reads\n",
    "    bam_iter = bamfile.fetch()\n",
    "    \n",
    "    for x in bam_iter:\n",
    "        total_mapped_reads += 1\n",
    "\n",
    "    gene_counts = {}\n",
    "    with open(genefile, 'r') as f:\n",
    "        for line in f:\n",
    "            tokens = line.split('\\t')\n",
    "            gene_local = (tokens[0], int(tokens[1]), int(tokens[2]))\n",
    "            gene_length = gene_local[2] - gene_local[1]\n",
    "            raw_count = read_count(gene_local, bamfile)\n",
    "            if tokens[3] in gene_counts:\n",
    "                gene_counts[tokens[3]] = (gene_counts[tokens[3]][0] + raw_count, gene_length)\n",
    "            else:\n",
    "                gene_counts.update({tokens[3].rstrip() : (raw_count, gene_length)})   \n",
    "    \n",
    "    countsDF = pd.DataFrame(gene_counts, index=['raw_count', 'gene_length'])\n",
    "    countsDF = countsDF.T\n",
    "    X=countsDF.iloc[:,0].values\n",
    "    l=countsDF.iloc[:,1].values\n",
    "    countsDF = countsDF.assign(tpm = 1e6 * (X/l) / (X/l).sum())\n",
    "    return(countsDF)"
   ]
  },
  {
   "cell_type": "markdown",
   "metadata": {
    "slideshow": {
     "slide_type": "subslide"
    }
   },
   "source": [
    "Now, lets give it a try"
   ]
  },
  {
   "cell_type": "code",
   "execution_count": 123,
   "metadata": {
    "slideshow": {
     "slide_type": "fragment"
    }
   },
   "outputs": [
    {
     "name": "stdout",
     "output_type": "stream",
     "text": [
      "CPU times: user 4.71 s, sys: 66.3 ms, total: 4.78 s\n",
      "Wall time: 4.79 s\n"
     ]
    }
   ],
   "source": [
    "%%time\n",
    "\n",
    "gene_counts = tpm('gencode.v27.chr20.bed', bamfile)"
   ]
  },
  {
   "cell_type": "code",
   "execution_count": 139,
   "metadata": {},
   "outputs": [
    {
     "data": {
      "text/html": [
       "<div>\n",
       "<style scoped>\n",
       "    .dataframe tbody tr th:only-of-type {\n",
       "        vertical-align: middle;\n",
       "    }\n",
       "\n",
       "    .dataframe tbody tr th {\n",
       "        vertical-align: top;\n",
       "    }\n",
       "\n",
       "    .dataframe thead th {\n",
       "        text-align: right;\n",
       "    }\n",
       "</style>\n",
       "<table border=\"1\" class=\"dataframe\">\n",
       "  <thead>\n",
       "    <tr style=\"text-align: right;\">\n",
       "      <th></th>\n",
       "      <th>raw_count</th>\n",
       "      <th>gene_length</th>\n",
       "      <th>tpm</th>\n",
       "    </tr>\n",
       "  </thead>\n",
       "  <tbody>\n",
       "    <tr>\n",
       "      <th>RNU4ATAC7P</th>\n",
       "      <td>54</td>\n",
       "      <td>125</td>\n",
       "      <td>1095.548656</td>\n",
       "    </tr>\n",
       "    <tr>\n",
       "      <th>Z98752.1</th>\n",
       "      <td>243</td>\n",
       "      <td>1561</td>\n",
       "      <td>394.776502</td>\n",
       "    </tr>\n",
       "    <tr>\n",
       "      <th>OGFR-AS1</th>\n",
       "      <td>825</td>\n",
       "      <td>4961</td>\n",
       "      <td>421.728203</td>\n",
       "    </tr>\n",
       "    <tr>\n",
       "      <th>AL031651.1</th>\n",
       "      <td>2216</td>\n",
       "      <td>1438</td>\n",
       "      <td>3908.038141</td>\n",
       "    </tr>\n",
       "    <tr>\n",
       "      <th>RNA5SP482</th>\n",
       "      <td>34</td>\n",
       "      <td>118</td>\n",
       "      <td>730.709634</td>\n",
       "    </tr>\n",
       "    <tr>\n",
       "      <th>U3</th>\n",
       "      <td>0</td>\n",
       "      <td>203</td>\n",
       "      <td>0.000000</td>\n",
       "    </tr>\n",
       "    <tr>\n",
       "      <th>RPLP0P1</th>\n",
       "      <td>117</td>\n",
       "      <td>361</td>\n",
       "      <td>821.914389</td>\n",
       "    </tr>\n",
       "    <tr>\n",
       "      <th>LINC00029</th>\n",
       "      <td>456</td>\n",
       "      <td>2812</td>\n",
       "      <td>411.241988</td>\n",
       "    </tr>\n",
       "    <tr>\n",
       "      <th>CHGB</th>\n",
       "      <td>1156</td>\n",
       "      <td>13932</td>\n",
       "      <td>210.422556</td>\n",
       "    </tr>\n",
       "    <tr>\n",
       "      <th>TRERNA1</th>\n",
       "      <td>146</td>\n",
       "      <td>789</td>\n",
       "      <td>469.271064</td>\n",
       "    </tr>\n",
       "    <tr>\n",
       "      <th>AL050404.1</th>\n",
       "      <td>2981</td>\n",
       "      <td>10650</td>\n",
       "      <td>709.839711</td>\n",
       "    </tr>\n",
       "    <tr>\n",
       "      <th>AL139350.1</th>\n",
       "      <td>188</td>\n",
       "      <td>513</td>\n",
       "      <td>929.369483</td>\n",
       "    </tr>\n",
       "    <tr>\n",
       "      <th>AL391095.2</th>\n",
       "      <td>138</td>\n",
       "      <td>4355</td>\n",
       "      <td>80.359801</td>\n",
       "    </tr>\n",
       "    <tr>\n",
       "      <th>DUXAP7</th>\n",
       "      <td>305</td>\n",
       "      <td>853</td>\n",
       "      <td>906.773317</td>\n",
       "    </tr>\n",
       "    <tr>\n",
       "      <th>NORAD</th>\n",
       "      <td>2266</td>\n",
       "      <td>5339</td>\n",
       "      <td>1076.336104</td>\n",
       "    </tr>\n",
       "    <tr>\n",
       "      <th>AL121845.2</th>\n",
       "      <td>1278</td>\n",
       "      <td>2129</td>\n",
       "      <td>1522.310055</td>\n",
       "    </tr>\n",
       "    <tr>\n",
       "      <th>AL009050.1</th>\n",
       "      <td>136</td>\n",
       "      <td>5317</td>\n",
       "      <td>64.866456</td>\n",
       "    </tr>\n",
       "    <tr>\n",
       "      <th>KCNK15-AS1</th>\n",
       "      <td>2055</td>\n",
       "      <td>51130</td>\n",
       "      <td>101.925760</td>\n",
       "    </tr>\n",
       "    <tr>\n",
       "      <th>SLC17A9</th>\n",
       "      <td>1367</td>\n",
       "      <td>16939</td>\n",
       "      <td>204.657974</td>\n",
       "    </tr>\n",
       "    <tr>\n",
       "      <th>HMGB3P1</th>\n",
       "      <td>270</td>\n",
       "      <td>888</td>\n",
       "      <td>771.078727</td>\n",
       "    </tr>\n",
       "  </tbody>\n",
       "</table>\n",
       "</div>"
      ],
      "text/plain": [
       "            raw_count  gene_length          tpm\n",
       "RNU4ATAC7P         54          125  1095.548656\n",
       "Z98752.1          243         1561   394.776502\n",
       "OGFR-AS1          825         4961   421.728203\n",
       "AL031651.1       2216         1438  3908.038141\n",
       "RNA5SP482          34          118   730.709634\n",
       "U3                  0          203     0.000000\n",
       "RPLP0P1           117          361   821.914389\n",
       "LINC00029         456         2812   411.241988\n",
       "CHGB             1156        13932   210.422556\n",
       "TRERNA1           146          789   469.271064\n",
       "AL050404.1       2981        10650   709.839711\n",
       "AL139350.1        188          513   929.369483\n",
       "AL391095.2        138         4355    80.359801\n",
       "DUXAP7            305          853   906.773317\n",
       "NORAD            2266         5339  1076.336104\n",
       "AL121845.2       1278         2129  1522.310055\n",
       "AL009050.1        136         5317    64.866456\n",
       "KCNK15-AS1       2055        51130   101.925760\n",
       "SLC17A9          1367        16939   204.657974\n",
       "HMGB3P1           270          888   771.078727"
      ]
     },
     "execution_count": 139,
     "metadata": {},
     "output_type": "execute_result"
    }
   ],
   "source": [
    "gene_counts.iloc[sample(range(gene_counts.shape[0]), 20)]"
   ]
  },
  {
   "cell_type": "code",
   "execution_count": 151,
   "metadata": {
    "slideshow": {
     "slide_type": "skip"
    }
   },
   "outputs": [],
   "source": [
    "def rpkm(genefile, bamfile):\n",
    "    \"\"\"\n",
    "    Compute the RPKM (reads per kilobase per million mapped reads) metric for all genes within the genefile using\n",
    "    an RNA-Seq bamfile\n",
    "    \"\"\"\n",
    "    total_mapped_reads = 0\n",
    "    \n",
    "    # here you want all reads\n",
    "    bam_iter = bamfile.fetch()\n",
    "    \n",
    "    for x in bam_iter:\n",
    "        total_mapped_reads += 1\n",
    "\n",
    "    gene_counts = {}\n",
    "    with open(genefile, 'r') as f:\n",
    "        for line in f:\n",
    "            tokens = line.split('\\t')\n",
    "            gene_local = (tokens[0], int(tokens[1]), int(tokens[2]))\n",
    "            gene_length=gene_local[2]-gene_local[1]\n",
    "            rpk_metric = 1e9 * read_count(gene_local, bamfile) \\\n",
    "                            / (total_mapped_reads * gene_length)\n",
    "            gene_counts.update({tokens[3].rstrip() : rpk_metric})   \n",
    "    return(gene_counts)"
   ]
  },
  {
   "cell_type": "code",
   "execution_count": 152,
   "metadata": {
    "slideshow": {
     "slide_type": "skip"
    }
   },
   "outputs": [
    {
     "name": "stdout",
     "output_type": "stream",
     "text": [
      "CPU times: user 4.65 s, sys: 55 ms, total: 4.71 s\n",
      "Wall time: 4.71 s\n"
     ]
    }
   ],
   "source": [
    "%%time\n",
    "\n",
    "gene_counts_rpkm = rpkm('gencode.v27.chr20.bed', bamfile)"
   ]
  },
  {
   "cell_type": "code",
   "execution_count": 158,
   "metadata": {
    "slideshow": {
     "slide_type": "skip"
    }
   },
   "outputs": [
    {
     "name": "stdout",
     "output_type": "stream",
     "text": [
      "162.84688065616749\n"
     ]
    }
   ],
   "source": [
    "print(gene_counts_rpkm.get('OGFR-AS1'))"
   ]
  },
  {
   "cell_type": "code",
   "execution_count": null,
   "metadata": {},
   "outputs": [],
   "source": []
  }
 ],
 "metadata": {
  "celltoolbar": "Slideshow",
  "kernelspec": {
   "display_name": "Python [default]",
   "language": "python",
   "name": "python3"
  },
  "language_info": {
   "codemirror_mode": {
    "name": "ipython",
    "version": 3
   },
   "file_extension": ".py",
   "mimetype": "text/x-python",
   "name": "python",
   "nbconvert_exporter": "python",
   "pygments_lexer": "ipython3",
   "version": "3.6.5"
  }
 },
 "nbformat": 4,
 "nbformat_minor": 2
}
