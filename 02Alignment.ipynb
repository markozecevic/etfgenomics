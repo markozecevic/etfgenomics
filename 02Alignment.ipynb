{
 "cells": [
  {
   "cell_type": "markdown",
   "metadata": {
    "nbpresent": {
     "id": "e4aac9fa-8227-4268-a9dc-a04af9c33c1d"
    },
    "slideshow": {
     "slide_type": "slide"
    }
   },
   "source": [
    "## Genome informatics\n",
    "# RNA-Seq analysis : Alignment\n",
    "\n",
    "\\* Adapted from [Tophat2 paper](https://genomebiology.biomedcentral.com/articles/10.1186/gb-2013-14-4-r36)"
   ]
  },
  {
   "cell_type": "markdown",
   "metadata": {
    "nbpresent": {
     "id": "8011218b-8ddc-4b88-9864-89309c7a1e48"
    },
    "slideshow": {
     "slide_type": "slide"
    }
   },
   "source": [
    "## Alignment challenges\n",
    "\n",
    "The first step in the analysis process is to map the RNA-Seq reads against the reference genome, which provides the location from which the reads originated. "
   ]
  },
  {
   "cell_type": "markdown",
   "metadata": {
    "nbpresent": {
     "id": "cad9301b-f182-4303-b5fb-134701c83e26"
    },
    "slideshow": {
     "slide_type": "fragment"
    }
   },
   "source": [
    "In contrast to DNA-Seq alignment, RNA-Seq mapping algorithms have two additional challenges:\n",
    "\n",
    "1. Because genes contain introns, and because reads sequenced from mature mRNA transcripts do not include these introns, any RNA-Seq alignment algorithm must be able to handle gapped (or spliced) alignment with very large gaps. In mammalian genomes, introns span a very wide range of lengths, typically from 50 to 100,000 bases, which the alignment algorithm must accommodate. \n",
    "\n",
    "2. The presence of processed pseudogenes, from which some or all introns have been removed, may cause many exon-spanning reads to map incorrectly. This is particularly acute for the human genome, which contains over 14,000 pseudogenes."
   ]
  },
  {
   "cell_type": "markdown",
   "metadata": {
    "nbpresent": {
     "id": "58f6c6cf-8a89-4697-862c-81fe9b9ca77e"
    },
    "slideshow": {
     "slide_type": "subslide"
    }
   },
   "source": [
    "Some numbers (Ensembl GRCh37 gene annotations, release 66 from 2012):\n",
    "\n",
    "- average length of a mature mRNA transcript in the human genome is 2,227 bp.\n",
    "- average exon length is 235 bp.\n",
    "- average number of exons per transcript is 9.5. \n",
    "\n",
    "Assuming that sequencing reads are uniformly distributed along a transcript, we would expect 33 to 38% of 100 bp reads from an RNA-Seq experiment to span two or more exons. Note that this proportion increases significantly as read length increases.\n",
    "\n",
    "More important for the alignment problem is that around 20% of junction-spanning reads extend by 10 bp or less into one of the exons they span."
   ]
  },
  {
   "cell_type": "markdown",
   "metadata": {
    "nbpresent": {
     "id": "47108a37-20f7-4399-a020-65ae9d8185ed"
    },
    "slideshow": {
     "slide_type": "subslide"
    }
   },
   "source": [
    "<img src=\"images/gb-2013-14-4-r36-1.jpg\" width=\"550\">\n",
    "\n",
    "1. A read extending a few bases into the flanking exon can be aligned to the intron instead of the exon. \n",
    "2. A read spanning multiple exons from genes with processed pseudogene copies can be aligned to the pseudogene copies instead of the gene from which it originates."
   ]
  },
  {
   "cell_type": "markdown",
   "metadata": {
    "nbpresent": {
     "id": "54b4781f-e274-4217-84a2-cfca40d7a818"
    },
    "slideshow": {
     "slide_type": "subslide"
    }
   },
   "source": [
    "### How Tophat2 handles these issues\n",
    "\n",
    "1. If a read extends only a few bases into one of two adjacent exons, then it often happens that the read will align equally well, but incorrectly, with the sequence of the intervening intron. To handle this problem, the appropriate algorithm detects potential splice sites for introns (GT-AG, GC-AG, and AT-AC). It uses these candidate splice sites in a subsequent step to correctly align multiexon-spanning reads.\n",
    "\n",
    "2. Concerning the human genome, for which there are relatively comprehensive annotations of protein-coding genes, the annotations can be used to map reads more accurately by aligning the reads preferentially to real genes rather than pseudogenes.\n"
   ]
  },
  {
   "cell_type": "markdown",
   "metadata": {
    "nbpresent": {
     "id": "265b3c47-af01-41a9-8961-6c60d5a28a96"
    },
    "slideshow": {
     "slide_type": "slide"
    }
   },
   "source": [
    "## Tophat2 algorithm"
   ]
  },
  {
   "cell_type": "markdown",
   "metadata": {
    "nbpresent": {
     "id": "72216a0e-0387-49e2-be7a-f3a2db3196cc"
    },
    "slideshow": {
     "slide_type": "fragment"
    }
   },
   "source": [
    "<img src=\"images/legend.png\" width=\"600\">\n",
    "<img src=\"images/th1.png\" width=\"600\">\n",
    "\n",
    "Given RNA-Seq reads as input, TopHat2 begins by mapping reads against the known transcriptome (if available)."
   ]
  },
  {
   "cell_type": "markdown",
   "metadata": {
    "nbpresent": {
     "id": "a35c25a2-05a5-487c-91fd-d2293d47cfd7"
    },
    "slideshow": {
     "slide_type": "subslide"
    }
   },
   "source": [
    "<img src=\"images/th2.png\" width=\"600\">\n",
    "\n",
    "TopHat2 aligns unmapped reads against the genome. Any reads contained entirely within exons will be mapped, whereas other spanning introns may not be."
   ]
  },
  {
   "cell_type": "markdown",
   "metadata": {
    "collapsed": true,
    "nbpresent": {
     "id": "1b2b534e-73d2-4382-bf8b-646de2474154"
    },
    "slideshow": {
     "slide_type": "fragment"
    }
   },
   "source": [
    "<img src=\"images/th3.png\" width=\"600\">\n",
    "\n",
    "The unmapped reads are split into smaller non-overlapping segments (25 bp each by default) which are then aligned against the genome."
   ]
  },
  {
   "cell_type": "markdown",
   "metadata": {
    "nbpresent": {
     "id": "fe25b022-baf7-46c9-82c2-1aaf4151aa4c"
    },
    "slideshow": {
     "slide_type": "subslide"
    }
   },
   "source": [
    "<img src=\"images/th4.png\" width=\"600\">\n",
    "\n",
    "Tophat2 examines any cases in which the left and right segments of the same read are mapped within a user-defined maximum intron size (usually between 50 and 100,000 bp). When this pattern is detected, TopHat2 re-aligns the entire read sequence to that genomic region in order to identify the most likely location of the splice site. It pays attention to the known junction signals (GT-AG, GC-AG, and AT-AC). The resulting spliced sequences are collected as a set of potential transcript fragments. Any reads not mapped in the previous stages (or mapped very poorly) are then re-aligned against this novel transcriptome."
   ]
  },
  {
   "cell_type": "markdown",
   "metadata": {
    "collapsed": true,
    "nbpresent": {
     "id": "f6390bb2-7a39-4853-84d9-d57addcda165"
    },
    "slideshow": {
     "slide_type": "fragment"
    }
   },
   "source": [
    "<img src=\"images/th7.png\" width=\"600\">\n",
    "\n",
    "After these steps, some of the reads may have been aligned incorrectly by extending an exonic alignment a few bases into the adjacent intron. TopHat2 checks if such alignments extend into the introns identified in the split-alignment phase; if so, it can realign these reads to the adjacent exons instead."
   ]
  },
  {
   "cell_type": "markdown",
   "metadata": {
    "nbpresent": {
     "id": "7d65a209-798c-42ce-823b-66f337c15010"
    },
    "slideshow": {
     "slide_type": "subslide"
    }
   },
   "source": [
    "\n",
    "In the final stage, TopHat2 divides the reads into those with unique alignments and those with multiple alignments. For the multi-mapped reads, TopHat2 gathers statistical information (for example, the number of supporting reads) about the relevant splice junctions, insertions, and deletions, which it uses to recalculate the alignment score for each read. Based on these new alignment scores, TopHat2 reports the most likely alignment locations for such multi-mapped reads.\n",
    "\n",
    "For paired-end reads, TopHat2 processes the two reads separately through the same mapping stages described above. In the final stage, the independently aligned reads are analyzed together to produce paired alignments, taking into consideration additional factors including fragment length and orientation."
   ]
  },
  {
   "cell_type": "markdown",
   "metadata": {
    "nbpresent": {
     "id": "ad2d04cf-81f2-4e99-a3bb-edaec62fe3b2"
    },
    "slideshow": {
     "slide_type": "slide"
    }
   },
   "source": [
    "## Alignment file\n",
    "\n",
    "<img src=\"images/20110524zurichngs-1st-pub-61-728.jpg\" width=\"700\">\n",
    "\n",
    "CIGAR: a string describing how the read aligns with the reference. It consists of one or more components. Each component comprises an operator and the number of bases which the operator applies to. Operators are: MIDNSHP=X.\n",
    "\n",
    "https://broadinstitute.github.io/picard/explain-flags.html"
   ]
  },
  {
   "cell_type": "markdown",
   "metadata": {
    "slideshow": {
     "slide_type": "subslide"
    }
   },
   "source": [
    "**pysam** is a Python package that wraps the functionality of the Samtools toolkit and enables many useful manipulations of SAM/BAM files. \n",
    "\n",
    "cigar types in pysam:\n",
    "\n",
    "- 0 - alignment match (can be a sequence match or mismatch)\n",
    "- 1 - insertion to the reference;\n",
    "- 2 - deletion from the reference\n",
    "- 3 - skipped region from the reference    \n",
    "- 4 - soft clipping (clipped sequences present in SEQ)\n",
    "- 5 - hard clipping (clipped sequences NOT present in SEQ)\n",
    "- 6 - padding (silent deletion from padded reference)\n",
    "- 7 - sequence match\n",
    "- 8 - sequence mismatch"
   ]
  },
  {
   "cell_type": "code",
   "execution_count": 3,
   "metadata": {
    "nbpresent": {
     "id": "09467fdb-0db1-45d8-845c-24e67b279581"
    },
    "slideshow": {
     "slide_type": "subslide"
    }
   },
   "outputs": [
    {
     "name": "stdout",
     "output_type": "stream",
     "text": [
      "[(0, 34), (3, 65), (0, 3)]\n",
      "SRR031714.2334042\t81\t0\t11310\t50\t34M65N3M\t0\t11160\t37\tTACAACAGAACTAGTACTCGTTTCCGTCGTATTTCTT\tarray('B', [40, 40, 40, 40, 40, 40, 40, 40, 40, 40, 40, 40, 40, 40, 40, 40, 40, 40, 40, 40, 40, 40, 40, 40, 40, 40, 40, 40, 40, 40, 40, 40, 40, 40, 40, 40, 40])\t[('AS', 0), ('XN', 0), ('XM', 0), ('XO', 0), ('XG', 0), ('NM', 0), ('MD', '37'), ('YT', 'UU'), ('XS', '-'), ('NH', 1)]\n"
     ]
    }
   ],
   "source": [
    "import pysam\n",
    "\n",
    "bamfile = pysam.AlignmentFile(\"SRR031714_accepted_hits.splitted.ref_2L.bam\", \"rb\")\n",
    "\n",
    "for read in bamfile.fetch():\n",
    "    for (cigarType, cigarLength) in read.cigar:\n",
    "        if cigarType == 3:\n",
    "            print(read.cigar)\n",
    "            print(read)\n",
    "            break\n",
    "    else:\n",
    "        continue\n",
    "    break\n",
    "\n",
    "    \n",
    "bamfile.close()"
   ]
  }
 ],
 "metadata": {
  "celltoolbar": "Slideshow",
  "kernelspec": {
   "display_name": "Python [default]",
   "language": "python",
   "name": "python3"
  },
  "language_info": {
   "codemirror_mode": {
    "name": "ipython",
    "version": 3
   },
   "file_extension": ".py",
   "mimetype": "text/x-python",
   "name": "python",
   "nbconvert_exporter": "python",
   "pygments_lexer": "ipython3",
   "version": "3.6.5"
  }
 },
 "nbformat": 4,
 "nbformat_minor": 2
}
