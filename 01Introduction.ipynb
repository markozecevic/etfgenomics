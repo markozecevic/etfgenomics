{
 "cells": [
  {
   "cell_type": "markdown",
   "metadata": {
    "slideshow": {
     "slide_type": "slide"
    }
   },
   "source": [
    "## Genome informatics\n",
    "# RNA-Seq analysis : An introduction"
   ]
  },
  {
   "cell_type": "markdown",
   "metadata": {
    "slideshow": {
     "slide_type": "slide"
    }
   },
   "source": [
    "## The central dogma of molecular biology\n",
    "\n",
    "(over)simplified: “DNA makes RNA, RNA makes proteins, proteins make us.”\n",
    "\n",
    "<img src=\"images/dogma.png\" width=\"500\">\n",
    "\n",
    "- Transcription\n",
    "- Splicing\n",
    "- Translation\n",
    "\n",
    "Genes active and their transcription rates and are different for different cells."
   ]
  },
  {
   "cell_type": "markdown",
   "metadata": {
    "slideshow": {
     "slide_type": "subslide"
    }
   },
   "source": [
    "There are other types of RNA besides messenger RNA (mRNA): transfer RNA (tRNA), ribosomal RNA (rRNA), small and long non coding RNA (ncRNA).\n",
    "\n",
    "<br>\n",
    "<img src=\"images/Peptide_syn.png\" width=\"400\">"
   ]
  },
  {
   "cell_type": "markdown",
   "metadata": {
    "slideshow": {
     "slide_type": "subslide"
    }
   },
   "source": [
    "<img src=\"images/proc2.png\" width=\"500\">"
   ]
  },
  {
   "cell_type": "markdown",
   "metadata": {
    "slideshow": {
     "slide_type": "fragment"
    }
   },
   "source": [
    "<img src=\"images/proc1.png\" width=\"500\">"
   ]
  },
  {
   "cell_type": "markdown",
   "metadata": {
    "slideshow": {
     "slide_type": "fragment"
    }
   },
   "source": [
    "<img src=\"images/proc3.png\" width=\"500\">"
   ]
  },
  {
   "cell_type": "markdown",
   "metadata": {
    "slideshow": {
     "slide_type": "fragment"
    }
   },
   "source": [
    "<img src=\"images/proc4.png\" width=\"500\">"
   ]
  },
  {
   "cell_type": "markdown",
   "metadata": {
    "slideshow": {
     "slide_type": "subslide"
    }
   },
   "source": [
    "From a single gene, multiple **transcripts**(**isoforms**) can (and usually will) be formed.\n",
    "\n",
    "<br>\n",
    "<img src=\"images/isoforms.png\" width=\"700\">"
   ]
  },
  {
   "cell_type": "markdown",
   "metadata": {
    "slideshow": {
     "slide_type": "slide"
    }
   },
   "source": [
    "## Why measure gene expression?\n",
    "\n",
    "**Because gene expression correlates with protein expression!**\n",
    "\n",
    "Even though nearly every cell in an organism's body contains the same set of genes, only a fraction of these genes are used in any given cell at any given time. It is this carefully controlled pattern of what is called \"gene expression\" that makes a liver cell different from a muscle cell, and a healthy cell different from a cancer cell. \n",
    "\n",
    "By measuring gene expression, we can identify active and inactive genes in a cell or tissue. This knowledge is important for drug discovery and creating diagnostic tests."
   ]
  },
  {
   "cell_type": "markdown",
   "metadata": {
    "slideshow": {
     "slide_type": "subslide"
    }
   },
   "source": [
    "## Before sequencing - library prep!\n",
    "\n",
    "Choosing the appropriate sequencing protocol:\n",
    "\n",
    "- Most of the RNA in a cell is ribosomal RNA (an RNA component of ribosome which is approx 60% rRNA and 40% protein). This is an issue since most scientists (and enthusiasts like us) will be interested in mRNA because of its protein coding function. There are two popular methods for increasing mRNA concentration in your samples:\n",
    "\n",
    "    1. poly (A) capture \n",
    "    2. ribosomal RNA depletion"
   ]
  },
  {
   "cell_type": "markdown",
   "metadata": {
    "slideshow": {
     "slide_type": "subslide"
    }
   },
   "source": [
    "<img src=\"images/lp1.png\" width=\"600\">"
   ]
  },
  {
   "cell_type": "markdown",
   "metadata": {
    "slideshow": {
     "slide_type": "subslide"
    }
   },
   "source": [
    "<img src=\"images/lp2.png\" width=\"600\">"
   ]
  },
  {
   "cell_type": "markdown",
   "metadata": {
    "slideshow": {
     "slide_type": "subslide"
    }
   },
   "source": [
    "- There are also total-RNA protocols that do not enrich for a specific RNA type - for \"total RNA\" studies;\n",
    "- Different fragment sizes;\n",
    "- Bulk or single cell RNA-Seq;\n",
    "- ...\n",
    "\n",
    "Then what? Microarrays or RNA-Seq!"
   ]
  },
  {
   "cell_type": "markdown",
   "metadata": {
    "slideshow": {
     "slide_type": "subslide"
    }
   },
   "source": [
    "### DNA microarrays\n",
    "\n",
    "- Around since late 80's.\n",
    "- Microscope slides with thousands of tiny spots, each spot containing a known DNA sequence or gene. These sequences act as probes to detect gene expression.\n",
    "- Molecules in the sample are labeled with fluorescent probes.\n",
    "- The process in which the sample molecules bind to the DNA probes on the slide is called hybridization. \n",
    "- Following hybridization, the microarray is scanned to measure the expression of each gene printed on the slide. "
   ]
  },
  {
   "cell_type": "code",
   "execution_count": 1,
   "metadata": {
    "slideshow": {
     "slide_type": "fragment"
    },
    "tags": [
     "hidden"
    ]
   },
   "outputs": [
    {
     "data": {
      "image/jpeg": "[encoded data removed]",
      "text/html": [
       "\n",
       "        <iframe\n",
       "            width=\"400\"\n",
       "            height=\"300\"\n",
       "            src=\"https://www.youtube.com/embed/1_wDrqgS8w8?end=20&controls=0&rel=0\"\n",
       "            frameborder=\"0\"\n",
       "            allowfullscreen\n",
       "        ></iframe>\n",
       "        "
      ],
      "text/plain": [
       "<IPython.lib.display.YouTubeVideo at 0x10e486dd8>"
      ]
     },
     "execution_count": 1,
     "metadata": {},
     "output_type": "execute_result"
    }
   ],
   "source": [
    "from IPython.display import YouTubeVideo\n",
    "YouTubeVideo('1_wDrqgS8w8', end = 20, controls = 0, rel = 0)"
   ]
  },
  {
   "cell_type": "markdown",
   "metadata": {
    "slideshow": {
     "slide_type": "subslide"
    }
   },
   "source": [
    "### RNA-Seq\n",
    "\n",
    "- A major breakthrough (replaced microarrays) in the late 00’s and has been widely used since.\n",
    "- Uses next-generation sequencing (NGS) to reveal the presence and quantity of RNA in a biological sample at a given moment.\n",
    "- Able to detect novel (undiscovered) isoforms and has a broader dynamic range compapred to microarrays.\n",
    "\n",
    "<img src=\"images/Bo7TRo5IUAAJ6KD.jpg\" width=\"450\">"
   ]
  },
  {
   "cell_type": "markdown",
   "metadata": {
    "slideshow": {
     "slide_type": "slide"
    }
   },
   "source": [
    "### RNA-Seq analysis goals\n",
    "\n",
    "- Reconstruct the full set of transcripts (isoforms) of genes that were present in the original cells. This catalogue of transcripts is called **transcriptome**. \n",
    "- Estimate the expression levels for all transcripts. "
   ]
  },
  {
   "cell_type": "markdown",
   "metadata": {
    "slideshow": {
     "slide_type": "fragment"
    }
   },
   "source": [
    "The basics will be laid out in following lectures:\n",
    "\n",
    "1. Introduction\n",
    "2. **Alignment**\n",
    "3. **Quantification**\n",
    "4. **Differential expression**"
   ]
  }
 ],
 "metadata": {
  "celltoolbar": "Slideshow",
  "kernelspec": {
   "display_name": "Python [default]",
   "language": "python",
   "name": "python3"
  },
  "language_info": {
   "codemirror_mode": {
    "name": "ipython",
    "version": 3
   },
   "file_extension": ".py",
   "mimetype": "text/x-python",
   "name": "python",
   "nbconvert_exporter": "python",
   "pygments_lexer": "ipython3",
   "version": "3.6.5"
  }
 },
 "nbformat": 4,
 "nbformat_minor": 2
}
